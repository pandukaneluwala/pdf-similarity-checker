{
  "nbformat": 4,
  "nbformat_minor": 0,
  "metadata": {
    "colab": {
      "provenance": []
    },
    "kernelspec": {
      "name": "python3",
      "display_name": "Python 3"
    },
    "language_info": {
      "name": "python"
    }
  },
  "cells": [
    {
      "cell_type": "code",
      "execution_count": null,
      "metadata": {
        "colab": {
          "base_uri": "https://localhost:8080/"
        },
        "id": "UDW9zK8y8f4A",
        "outputId": "8b56d230-038c-46c5-f086-bdb183309983"
      },
      "outputs": [
        {
          "output_type": "stream",
          "name": "stdout",
          "text": [
            "Requirement already satisfied: python-docx in /usr/local/lib/python3.11/dist-packages (1.2.0)\n",
            "Requirement already satisfied: scikit-learn in /usr/local/lib/python3.11/dist-packages (1.6.1)\n",
            "Requirement already satisfied: lxml>=3.1.0 in /usr/local/lib/python3.11/dist-packages (from python-docx) (5.4.0)\n",
            "Requirement already satisfied: typing_extensions>=4.9.0 in /usr/local/lib/python3.11/dist-packages (from python-docx) (4.14.1)\n",
            "Requirement already satisfied: numpy>=1.19.5 in /usr/local/lib/python3.11/dist-packages (from scikit-learn) (2.0.2)\n",
            "Requirement already satisfied: scipy>=1.6.0 in /usr/local/lib/python3.11/dist-packages (from scikit-learn) (1.16.0)\n",
            "Requirement already satisfied: joblib>=1.2.0 in /usr/local/lib/python3.11/dist-packages (from scikit-learn) (1.5.1)\n",
            "Requirement already satisfied: threadpoolctl>=3.1.0 in /usr/local/lib/python3.11/dist-packages (from scikit-learn) (3.6.0)\n"
          ]
        }
      ],
      "source": [
        "!pip install python-docx scikit-learn"
      ]
    },
    {
      "cell_type": "code",
      "source": [
        "from google.colab import files\n",
        "uploaded = files.upload()"
      ],
      "metadata": {
        "colab": {
          "base_uri": "https://localhost:8080/",
          "height": 428
        },
        "id": "mFNxQYHi9HQp",
        "outputId": "e22f1dc0-fe13-4ddf-87c2-1b3b2d25dd6b"
      },
      "execution_count": null,
      "outputs": [
        {
          "output_type": "display_data",
          "data": {
            "text/plain": [
              "<IPython.core.display.HTML object>"
            ],
            "text/html": [
              "\n",
              "     <input type=\"file\" id=\"files-eb4e2b2c-d2ca-44a4-b18e-0844718eaf23\" name=\"files[]\" multiple disabled\n",
              "        style=\"border:none\" />\n",
              "     <output id=\"result-eb4e2b2c-d2ca-44a4-b18e-0844718eaf23\">\n",
              "      Upload widget is only available when the cell has been executed in the\n",
              "      current browser session. Please rerun this cell to enable.\n",
              "      </output>\n",
              "      <script>// Copyright 2017 Google LLC\n",
              "//\n",
              "// Licensed under the Apache License, Version 2.0 (the \"License\");\n",
              "// you may not use this file except in compliance with the License.\n",
              "// You may obtain a copy of the License at\n",
              "//\n",
              "//      http://www.apache.org/licenses/LICENSE-2.0\n",
              "//\n",
              "// Unless required by applicable law or agreed to in writing, software\n",
              "// distributed under the License is distributed on an \"AS IS\" BASIS,\n",
              "// WITHOUT WARRANTIES OR CONDITIONS OF ANY KIND, either express or implied.\n",
              "// See the License for the specific language governing permissions and\n",
              "// limitations under the License.\n",
              "\n",
              "/**\n",
              " * @fileoverview Helpers for google.colab Python module.\n",
              " */\n",
              "(function(scope) {\n",
              "function span(text, styleAttributes = {}) {\n",
              "  const element = document.createElement('span');\n",
              "  element.textContent = text;\n",
              "  for (const key of Object.keys(styleAttributes)) {\n",
              "    element.style[key] = styleAttributes[key];\n",
              "  }\n",
              "  return element;\n",
              "}\n",
              "\n",
              "// Max number of bytes which will be uploaded at a time.\n",
              "const MAX_PAYLOAD_SIZE = 100 * 1024;\n",
              "\n",
              "function _uploadFiles(inputId, outputId) {\n",
              "  const steps = uploadFilesStep(inputId, outputId);\n",
              "  const outputElement = document.getElementById(outputId);\n",
              "  // Cache steps on the outputElement to make it available for the next call\n",
              "  // to uploadFilesContinue from Python.\n",
              "  outputElement.steps = steps;\n",
              "\n",
              "  return _uploadFilesContinue(outputId);\n",
              "}\n",
              "\n",
              "// This is roughly an async generator (not supported in the browser yet),\n",
              "// where there are multiple asynchronous steps and the Python side is going\n",
              "// to poll for completion of each step.\n",
              "// This uses a Promise to block the python side on completion of each step,\n",
              "// then passes the result of the previous step as the input to the next step.\n",
              "function _uploadFilesContinue(outputId) {\n",
              "  const outputElement = document.getElementById(outputId);\n",
              "  const steps = outputElement.steps;\n",
              "\n",
              "  const next = steps.next(outputElement.lastPromiseValue);\n",
              "  return Promise.resolve(next.value.promise).then((value) => {\n",
              "    // Cache the last promise value to make it available to the next\n",
              "    // step of the generator.\n",
              "    outputElement.lastPromiseValue = value;\n",
              "    return next.value.response;\n",
              "  });\n",
              "}\n",
              "\n",
              "/**\n",
              " * Generator function which is called between each async step of the upload\n",
              " * process.\n",
              " * @param {string} inputId Element ID of the input file picker element.\n",
              " * @param {string} outputId Element ID of the output display.\n",
              " * @return {!Iterable<!Object>} Iterable of next steps.\n",
              " */\n",
              "function* uploadFilesStep(inputId, outputId) {\n",
              "  const inputElement = document.getElementById(inputId);\n",
              "  inputElement.disabled = false;\n",
              "\n",
              "  const outputElement = document.getElementById(outputId);\n",
              "  outputElement.innerHTML = '';\n",
              "\n",
              "  const pickedPromise = new Promise((resolve) => {\n",
              "    inputElement.addEventListener('change', (e) => {\n",
              "      resolve(e.target.files);\n",
              "    });\n",
              "  });\n",
              "\n",
              "  const cancel = document.createElement('button');\n",
              "  inputElement.parentElement.appendChild(cancel);\n",
              "  cancel.textContent = 'Cancel upload';\n",
              "  const cancelPromise = new Promise((resolve) => {\n",
              "    cancel.onclick = () => {\n",
              "      resolve(null);\n",
              "    };\n",
              "  });\n",
              "\n",
              "  // Wait for the user to pick the files.\n",
              "  const files = yield {\n",
              "    promise: Promise.race([pickedPromise, cancelPromise]),\n",
              "    response: {\n",
              "      action: 'starting',\n",
              "    }\n",
              "  };\n",
              "\n",
              "  cancel.remove();\n",
              "\n",
              "  // Disable the input element since further picks are not allowed.\n",
              "  inputElement.disabled = true;\n",
              "\n",
              "  if (!files) {\n",
              "    return {\n",
              "      response: {\n",
              "        action: 'complete',\n",
              "      }\n",
              "    };\n",
              "  }\n",
              "\n",
              "  for (const file of files) {\n",
              "    const li = document.createElement('li');\n",
              "    li.append(span(file.name, {fontWeight: 'bold'}));\n",
              "    li.append(span(\n",
              "        `(${file.type || 'n/a'}) - ${file.size} bytes, ` +\n",
              "        `last modified: ${\n",
              "            file.lastModifiedDate ? file.lastModifiedDate.toLocaleDateString() :\n",
              "                                    'n/a'} - `));\n",
              "    const percent = span('0% done');\n",
              "    li.appendChild(percent);\n",
              "\n",
              "    outputElement.appendChild(li);\n",
              "\n",
              "    const fileDataPromise = new Promise((resolve) => {\n",
              "      const reader = new FileReader();\n",
              "      reader.onload = (e) => {\n",
              "        resolve(e.target.result);\n",
              "      };\n",
              "      reader.readAsArrayBuffer(file);\n",
              "    });\n",
              "    // Wait for the data to be ready.\n",
              "    let fileData = yield {\n",
              "      promise: fileDataPromise,\n",
              "      response: {\n",
              "        action: 'continue',\n",
              "      }\n",
              "    };\n",
              "\n",
              "    // Use a chunked sending to avoid message size limits. See b/62115660.\n",
              "    let position = 0;\n",
              "    do {\n",
              "      const length = Math.min(fileData.byteLength - position, MAX_PAYLOAD_SIZE);\n",
              "      const chunk = new Uint8Array(fileData, position, length);\n",
              "      position += length;\n",
              "\n",
              "      const base64 = btoa(String.fromCharCode.apply(null, chunk));\n",
              "      yield {\n",
              "        response: {\n",
              "          action: 'append',\n",
              "          file: file.name,\n",
              "          data: base64,\n",
              "        },\n",
              "      };\n",
              "\n",
              "      let percentDone = fileData.byteLength === 0 ?\n",
              "          100 :\n",
              "          Math.round((position / fileData.byteLength) * 100);\n",
              "      percent.textContent = `${percentDone}% done`;\n",
              "\n",
              "    } while (position < fileData.byteLength);\n",
              "  }\n",
              "\n",
              "  // All done.\n",
              "  yield {\n",
              "    response: {\n",
              "      action: 'complete',\n",
              "    }\n",
              "  };\n",
              "}\n",
              "\n",
              "scope.google = scope.google || {};\n",
              "scope.google.colab = scope.google.colab || {};\n",
              "scope.google.colab._files = {\n",
              "  _uploadFiles,\n",
              "  _uploadFilesContinue,\n",
              "};\n",
              "})(self);\n",
              "</script> "
            ]
          },
          "metadata": {}
        },
        {
          "output_type": "stream",
          "name": "stdout",
          "text": [
            "Saving E20047 CHANDIMAL P.A.K.D. MR_66663_assignsubmission_file_Mahaweli_Dams_and_Minipe_Report_E20_047.pdf to E20047 CHANDIMAL P.A.K.D. MR_66663_assignsubmission_file_Mahaweli_Dams_and_Minipe_Report_E20_047.pdf\n",
            "Saving E20398 THILAKSHANA P.K.A. MR_66630_assignsubmission_file_Irrigation_field_visit_report_E20398.pdf to E20398 THILAKSHANA P.K.A. MR_66630_assignsubmission_file_Irrigation_field_visit_report_E20398.pdf\n",
            "Saving E20002 ABEYKOON C.S. MR_66681_assignsubmission_file_Irrigation field visit Previsit Assignment. E20002.pdf to E20002 ABEYKOON C.S. MR_66681_assignsubmission_file_Irrigation field visit Previsit Assignment. E20002.pdf\n",
            "Saving E20225 MADHURANDA A.K.S. MR_66676_assignsubmission_file_Irrigation field visit Previsit Assignment. E20225.pdf to E20225 MADHURANDA A.K.S. MR_66676_assignsubmission_file_Irrigation field visit Previsit Assignment. E20225.pdf\n",
            "Saving E20206 KULASEKARA P.M.N. MR_66636_assignsubmission_file_E20206_preAssignment.pdf to E20206 KULASEKARA P.M.N. MR_66636_assignsubmission_file_E20206_preAssignment.pdf\n",
            "Saving E20437 WICKRAMARATHNA R.C.J. MR_66623_assignsubmission_file_E_20_437-Mahaweli_Dams_and_Minipe_Anicut_Report.pdf to E20437 WICKRAMARATHNA R.C.J. MR_66623_assignsubmission_file_E_20_437-Mahaweli_Dams_and_Minipe_Anicut_Report.pdf\n",
            "Saving E20092 EDIRISINGHE W.A.K.S.D. MR_66638_assignsubmission_file_Mahaweli_Minipe_Dams_Report.pdf to E20092 EDIRISINGHE W.A.K.S.D. MR_66638_assignsubmission_file_Mahaweli_Minipe_Dams_Report.pdf\n"
          ]
        }
      ]
    },
    {
      "cell_type": "code",
      "source": [],
      "metadata": {
        "id": "6z-N0GDq_p0y"
      },
      "execution_count": null,
      "outputs": []
    },
    {
      "cell_type": "code",
      "source": [
        "!pip install PyMuPDF"
      ],
      "metadata": {
        "id": "ALjp2WNU_sWu",
        "outputId": "926787a3-1c20-4417-dab4-d7b01f13b7f2",
        "colab": {
          "base_uri": "https://localhost:8080/"
        }
      },
      "execution_count": null,
      "outputs": [
        {
          "output_type": "stream",
          "name": "stdout",
          "text": [
            "Collecting PyMuPDF\n",
            "  Downloading pymupdf-1.26.3-cp39-abi3-manylinux_2_28_x86_64.whl.metadata (3.4 kB)\n",
            "Downloading pymupdf-1.26.3-cp39-abi3-manylinux_2_28_x86_64.whl (24.1 MB)\n",
            "\u001b[2K   \u001b[90m━━━━━━━━━━━━━━━━━━━━━━━━━━━━━━━━━━━━━━━━\u001b[0m \u001b[32m24.1/24.1 MB\u001b[0m \u001b[31m78.6 MB/s\u001b[0m eta \u001b[36m0:00:00\u001b[0m\n",
            "\u001b[?25hInstalling collected packages: PyMuPDF\n",
            "Successfully installed PyMuPDF-1.26.3\n"
          ]
        }
      ]
    },
    {
      "cell_type": "code",
      "source": [
        "import fitz  # from PyMuPDF\n",
        "from sklearn.feature_extraction.text import TfidfVectorizer\n",
        "from sklearn.metrics.pairwise import cosine_similarity\n",
        "import io\n",
        "\n",
        "def extract_text_from_pdf(file_bytes):\n",
        "    text = \"\"\n",
        "    with fitz.open(stream=file_bytes, filetype=\"pdf\") as doc:\n",
        "        for page in doc:\n",
        "            text += page.get_text()\n",
        "    return text.strip()\n",
        "\n",
        "file_texts = []\n",
        "file_names = []\n",
        "\n",
        "for filename, file_bytes in uploaded.items():\n",
        "    text = extract_text_from_pdf(file_bytes)\n",
        "    print(f\"\\n--- {filename} ---\\n{text[:300]}\")  # Preview\n",
        "    if text:\n",
        "        file_texts.append(text)\n",
        "        file_names.append(filename)\n",
        "\n",
        "if len(file_texts) < 2:\n",
        "    print(\"\\n❌ Not enough valid PDF documents with extractable text.\")\n",
        "else:\n",
        "    # TF-IDF Vectorization + Similarity\n",
        "    vectorizer = TfidfVectorizer(stop_words='english').fit_transform(file_texts)\n",
        "    similarity_matrix = cosine_similarity(vectorizer)\n",
        "\n",
        "    # Threshold to flag similar files\n",
        "    threshold = 0.95\n",
        "    print(\"\\n📋 Highly similar PDF document pairs (Possible copies):\")\n",
        "    found = False\n",
        "    for i in range(len(file_names)):\n",
        "        for j in range(i + 1, len(file_names)):\n",
        "            score = similarity_matrix[i][j]\n",
        "            if score > threshold:\n",
        "                print(f\"{file_names[i]} <--> {file_names[j]} : {score:.2f}\")\n",
        "                found = True\n",
        "    if not found:\n",
        "        print(\"No highly similar files found above threshold.\")\n"
      ],
      "metadata": {
        "colab": {
          "base_uri": "https://localhost:8080/"
        },
        "id": "C8a16R-b_iKb",
        "outputId": "a7c4bd07-dac2-4802-9b5c-3b9e4e9e2894"
      },
      "execution_count": null,
      "outputs": [
        {
          "output_type": "stream",
          "name": "stdout",
          "text": [
            "\n",
            "--- E20047 CHANDIMAL P.A.K.D. MR_66663_assignsubmission_file_Mahaweli_Dams_and_Minipe_Report_E20_047.pdf ---\n",
            "Report: Dams on Mahaweli River up to Minipe Anicut and Details of Minipe Scheme\n",
            "1. Types of Dams and Their Specifications in the Mahaweli River up to Minipe Anicut\n",
            "The Mahaweli River, the longest river in Sri Lanka, has several major dam structures developed under the\n",
            "Mahaweli Development Program. U\n",
            "\n",
            "--- E20398 THILAKSHANA P.K.A. MR_66630_assignsubmission_file_Irrigation_field_visit_report_E20398.pdf ---\n",
            "Mahaweli River Headworks and Minipe Diversion System\n",
            "1. Dams in the Mahaweli River up to Minipe Anicut\n",
            "The Mahaweli River features a cascade of major hydraulic structures upstream of the Minipe Anicut, forming\n",
            "a critical water and energy infrastructure system in Sri Lanka. The main dams in this casc\n",
            "\n",
            "--- E20002 ABEYKOON C.S. MR_66681_assignsubmission_file_Irrigation field visit Previsit Assignment. E20002.pdf ---\n",
            "Types of Dams and Specifications in the Mahaweli River up to Minipe Anicut\n",
            "The Mahaweli River is the longest river in Sri Lanka and plays a crucial role in hydropower generation,\n",
            "irrigation, and water supply. The Mahaweli Development Program has constructed several major dams and\n",
            "anicuts along the r\n",
            "\n",
            "--- E20225 MADHURANDA A.K.S. MR_66676_assignsubmission_file_Irrigation field visit Previsit Assignment. E20225.pdf ---\n",
            "Types of Dams and Specifications in the Mahaweli River up to Minipe Anicut\n",
            "The Mahaweli River is the longest river in Sri Lanka and plays a crucial role in hydropower generation,\n",
            "irrigation, and water supply. The Mahaweli Development Program has constructed several major dams and\n",
            "anicuts along the r\n",
            "\n",
            "--- E20206 KULASEKARA P.M.N. MR_66636_assignsubmission_file_E20206_preAssignment.pdf ---\n",
            "Mahaweli River Dams and Minipe Anicut System\n",
            "1. Mahaweli River Dams up to Minipe Anicut\n",
            "Polgolla Barrage:\n",
            "- Type: Barrage\n",
            "- Length: 144 m, Height: ~14.6 m\n",
            "- Function: Maintains river level for diversion to Ukuwela hydroplant\n",
            "Victoria Dam:\n",
            "- Type: Arch Dam\n",
            "- Length: 520 m, Height: 122 m\n",
            "- Reservoir C\n",
            "\n",
            "--- E20437 WICKRAMARATHNA R.C.J. MR_66623_assignsubmission_file_E_20_437-Mahaweli_Dams_and_Minipe_Anicut_Report.pdf ---\n",
            "Mahaweli River Dams and Minipe Anicut System\n",
            "1. Mahaweli River Dams up to Minipe Anicut\n",
            "Polgolla Barrage:\n",
            "- Type: Barrage\n",
            "- Length: 144 m, Height: ~14.6 m\n",
            "- Function: Maintains river level for diversion to Ukuwela hydroplant\n",
            "Victoria Dam:\n",
            "- Type: Arch Dam\n",
            "- Length: 520 m, Height: 122 m\n",
            "- Reservoir C\n",
            "\n",
            "--- E20092 EDIRISINGHE W.A.K.S.D. MR_66638_assignsubmission_file_Mahaweli_Minipe_Dams_Report.pdf ---\n",
            "Mahaweli River Dams and Minipe Anicut System\n",
            "1. Type of Dams and their Specifications in the Mahaweli River up to Minipe Anicut\n",
            "Below are key dams upstream of the Minipe Anicut on the Mahaweli River:\n",
            "- Polgolla Barrage\n",
            "  - Type: Barrage (Diversion Dam)\n",
            "  - Dimensions: ~15 m high, ~140 m long\n",
            "  - Dis\n",
            "\n",
            "📋 Highly similar PDF document pairs (Possible copies):\n",
            "E20002 ABEYKOON C.S. MR_66681_assignsubmission_file_Irrigation field visit Previsit Assignment. E20002.pdf <--> E20225 MADHURANDA A.K.S. MR_66676_assignsubmission_file_Irrigation field visit Previsit Assignment. E20225.pdf : 1.00\n",
            "E20206 KULASEKARA P.M.N. MR_66636_assignsubmission_file_E20206_preAssignment.pdf <--> E20437 WICKRAMARATHNA R.C.J. MR_66623_assignsubmission_file_E_20_437-Mahaweli_Dams_and_Minipe_Anicut_Report.pdf : 1.00\n"
          ]
        }
      ]
    },
    {
      "cell_type": "code",
      "source": [
        "# Create and save a text report of similar files\n",
        "report_lines = []\n",
        "report_lines.append(\"📋 Highly Similar PDF Document Pairs (Threshold = 0.95)\\n\")\n",
        "\n",
        "found = False\n",
        "for i in range(len(file_names)):\n",
        "    for j in range(i + 1, len(file_names)):\n",
        "        score = similarity_matrix[i][j]\n",
        "        if score > threshold:\n",
        "            found = True\n",
        "            report_lines.append(f\"{file_names[i]} <--> {file_names[j]} : {score:.2f}\")\n",
        "\n",
        "if not found:\n",
        "    report_lines.append(\"No highly similar files found above the threshold.\")\n",
        "\n",
        "# Save the report to a .txt file\n",
        "with open(\"similarity_report.txt\", \"w\") as f:\n",
        "    f.write(\"\\n\".join(report_lines))\n",
        "\n",
        "# Offer download\n",
        "from google.colab import files\n",
        "files.download(\"similarity_report.txt\")\n"
      ],
      "metadata": {
        "colab": {
          "base_uri": "https://localhost:8080/",
          "height": 17
        },
        "id": "0vn6-P_iBsnV",
        "outputId": "79f51681-3eee-4cb3-f6c2-2b0ac9e5d9fb"
      },
      "execution_count": 11,
      "outputs": [
        {
          "output_type": "display_data",
          "data": {
            "text/plain": [
              "<IPython.core.display.Javascript object>"
            ],
            "application/javascript": [
              "\n",
              "    async function download(id, filename, size) {\n",
              "      if (!google.colab.kernel.accessAllowed) {\n",
              "        return;\n",
              "      }\n",
              "      const div = document.createElement('div');\n",
              "      const label = document.createElement('label');\n",
              "      label.textContent = `Downloading \"${filename}\": `;\n",
              "      div.appendChild(label);\n",
              "      const progress = document.createElement('progress');\n",
              "      progress.max = size;\n",
              "      div.appendChild(progress);\n",
              "      document.body.appendChild(div);\n",
              "\n",
              "      const buffers = [];\n",
              "      let downloaded = 0;\n",
              "\n",
              "      const channel = await google.colab.kernel.comms.open(id);\n",
              "      // Send a message to notify the kernel that we're ready.\n",
              "      channel.send({})\n",
              "\n",
              "      for await (const message of channel.messages) {\n",
              "        // Send a message to notify the kernel that we're ready.\n",
              "        channel.send({})\n",
              "        if (message.buffers) {\n",
              "          for (const buffer of message.buffers) {\n",
              "            buffers.push(buffer);\n",
              "            downloaded += buffer.byteLength;\n",
              "            progress.value = downloaded;\n",
              "          }\n",
              "        }\n",
              "      }\n",
              "      const blob = new Blob(buffers, {type: 'application/binary'});\n",
              "      const a = document.createElement('a');\n",
              "      a.href = window.URL.createObjectURL(blob);\n",
              "      a.download = filename;\n",
              "      div.appendChild(a);\n",
              "      a.click();\n",
              "      div.remove();\n",
              "    }\n",
              "  "
            ]
          },
          "metadata": {}
        },
        {
          "output_type": "display_data",
          "data": {
            "text/plain": [
              "<IPython.core.display.Javascript object>"
            ],
            "application/javascript": [
              "download(\"download_5ac7fb04-6914-4ee8-a850-82e6fbd18303\", \"similarity_report.txt\", 493)"
            ]
          },
          "metadata": {}
        }
      ]
    }
  ]
}