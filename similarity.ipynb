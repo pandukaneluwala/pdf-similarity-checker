{
  "nbformat": 4,
  "nbformat_minor": 0,
  "metadata": {
    "colab": {
      "provenance": []
    },
    "kernelspec": {
      "name": "python3",
      "display_name": "Python 3"
    },
    "language_info": {
      "name": "python"
    }
  },
  "cells": [
    {
      "cell_type": "code",
      "execution_count": null,
      "metadata": {
        "id": "UDW9zK8y8f4A"
      },
      "outputs": [],
      "source": [
        "!pip install python-docx scikit-learn"
      ]
    },
    {
      "cell_type": "code",
      "source": [
        "from google.colab import files\n",
        "uploaded = files.upload()"
      ],
      "metadata": {
        "id": "mFNxQYHi9HQp"
      },
      "execution_count": null,
      "outputs": []
    },
    {
      "cell_type": "code",
      "source": [
        "!pip install PyMuPDF"
      ],
      "metadata": {
        "id": "ALjp2WNU_sWu"
      },
      "execution_count": null,
      "outputs": []
    },
    {
      "cell_type": "code",
      "source": [
        "import fitz  # from PyMuPDF\n",
        "from sklearn.feature_extraction.text import TfidfVectorizer\n",
        "from sklearn.metrics.pairwise import cosine_similarity\n",
        "import io\n",
        "\n",
        "def extract_text_from_pdf(file_bytes):\n",
        "    text = \"\"\n",
        "    with fitz.open(stream=file_bytes, filetype=\"pdf\") as doc:\n",
        "        for page in doc:\n",
        "            text += page.get_text()\n",
        "    return text.strip()\n",
        "\n",
        "file_texts = []\n",
        "file_names = []\n",
        "\n",
        "for filename, file_bytes in uploaded.items():\n",
        "    text = extract_text_from_pdf(file_bytes)\n",
        "    print(f\"\\n--- {filename} ---\\n{text[:300]}\")  # Preview\n",
        "    if text:\n",
        "        file_texts.append(text)\n",
        "        file_names.append(filename)\n",
        "\n",
        "if len(file_texts) < 2:\n",
        "    print(\"\\n❌ Not enough valid PDF documents with extractable text.\")\n",
        "else:\n",
        "    # TF-IDF Vectorization + Similarity\n",
        "    vectorizer = TfidfVectorizer(stop_words='english').fit_transform(file_texts)\n",
        "    similarity_matrix = cosine_similarity(vectorizer)\n",
        "\n",
        "    # Threshold to flag similar files\n",
        "    threshold = 0.95\n",
        "    print(\"\\n📋 Highly similar PDF document pairs (Possible copies):\")\n",
        "    found = False\n",
        "    for i in range(len(file_names)):\n",
        "        for j in range(i + 1, len(file_names)):\n",
        "            score = similarity_matrix[i][j]\n",
        "            if score > threshold:\n",
        "                print(f\"{file_names[i]} <--> {file_names[j]} : {score:.2f}\")\n",
        "                found = True\n",
        "    if not found:\n",
        "        print(\"No highly similar files found above threshold.\")\n"
      ],
      "metadata": {
        "id": "C8a16R-b_iKb"
      },
      "execution_count": null,
      "outputs": []
    },
    {
      "cell_type": "code",
      "source": [
        "# Create and save a text report of similar files\n",
        "report_lines = []\n",
        "report_lines.append(\"📋 Highly Similar PDF Document Pairs (Threshold = 0.95)\\n\")\n",
        "\n",
        "found = False\n",
        "for i in range(len(file_names)):\n",
        "    for j in range(i + 1, len(file_names)):\n",
        "        score = similarity_matrix[i][j]\n",
        "        if score > threshold:\n",
        "            found = True\n",
        "            report_lines.append(f\"{file_names[i]} <--> {file_names[j]} : {score:.2f}\")\n",
        "\n",
        "if not found:\n",
        "    report_lines.append(\"No highly similar files found above the threshold.\")\n",
        "\n",
        "# Save the report to a .txt file\n",
        "with open(\"similarity_report.txt\", \"w\") as f:\n",
        "    f.write(\"\\n\".join(report_lines))\n",
        "\n",
        "# Offer download\n",
        "from google.colab import files\n",
        "files.download(\"similarity_report.txt\")\n"
      ],
      "metadata": {
        "colab": {
          "base_uri": "https://localhost:8080/",
          "height": 17
        },
        "id": "0vn6-P_iBsnV",
        "outputId": "79f51681-3eee-4cb3-f6c2-2b0ac9e5d9fb"
      },
      "execution_count": null,
      "outputs": [
        {
          "output_type": "display_data",
          "data": {
            "text/plain": [
              "<IPython.core.display.Javascript object>"
            ],
            "application/javascript": [
              "\n",
              "    async function download(id, filename, size) {\n",
              "      if (!google.colab.kernel.accessAllowed) {\n",
              "        return;\n",
              "      }\n",
              "      const div = document.createElement('div');\n",
              "      const label = document.createElement('label');\n",
              "      label.textContent = `Downloading \"${filename}\": `;\n",
              "      div.appendChild(label);\n",
              "      const progress = document.createElement('progress');\n",
              "      progress.max = size;\n",
              "      div.appendChild(progress);\n",
              "      document.body.appendChild(div);\n",
              "\n",
              "      const buffers = [];\n",
              "      let downloaded = 0;\n",
              "\n",
              "      const channel = await google.colab.kernel.comms.open(id);\n",
              "      // Send a message to notify the kernel that we're ready.\n",
              "      channel.send({})\n",
              "\n",
              "      for await (const message of channel.messages) {\n",
              "        // Send a message to notify the kernel that we're ready.\n",
              "        channel.send({})\n",
              "        if (message.buffers) {\n",
              "          for (const buffer of message.buffers) {\n",
              "            buffers.push(buffer);\n",
              "            downloaded += buffer.byteLength;\n",
              "            progress.value = downloaded;\n",
              "          }\n",
              "        }\n",
              "      }\n",
              "      const blob = new Blob(buffers, {type: 'application/binary'});\n",
              "      const a = document.createElement('a');\n",
              "      a.href = window.URL.createObjectURL(blob);\n",
              "      a.download = filename;\n",
              "      div.appendChild(a);\n",
              "      a.click();\n",
              "      div.remove();\n",
              "    }\n",
              "  "
            ]
          },
          "metadata": {}
        },
        {
          "output_type": "display_data",
          "data": {
            "text/plain": [
              "<IPython.core.display.Javascript object>"
            ],
            "application/javascript": [
              "download(\"download_5ac7fb04-6914-4ee8-a850-82e6fbd18303\", \"similarity_report.txt\", 493)"
            ]
          },
          "metadata": {}
        }
      ]
    }
  ]
}